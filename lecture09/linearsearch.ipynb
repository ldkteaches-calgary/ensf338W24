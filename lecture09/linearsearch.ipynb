{
 "cells": [
  {
   "cell_type": "code",
   "execution_count": null,
   "metadata": {},
   "outputs": [],
   "source": [
    "# Import/define stuff we'll need\n",
    "import random\n",
    "import timeit\n",
    "from matplotlib import pyplot as plt\n",
    "plt.rcParams['figure.figsize'] = [10, 5]\n",
    "import numpy as np\n",
    "\n",
    "\n",
    "def findinlist(n, l):\n",
    "    for i in range(len(l)):\n",
    "        if l[i] == n:\n",
    "            return True\n",
    "    return False"
   ]
  },
  {
   "attachments": {},
   "cell_type": "markdown",
   "metadata": {},
   "source": [
    "# Linear search performance analysis"
   ]
  },
  {
   "cell_type": "code",
   "execution_count": null,
   "metadata": {},
   "outputs": [],
   "source": [
    "avgtimes = []\n",
    "# For multiple possible input lengths...\n",
    "listlengths = [1000, 2000, 5000, 10000]\n",
    "for listlength in listlengths:\n",
    "    # Generate a list of that input length,\n",
    "    numbers = [x for x in range(listlength)]\n",
    "    rez = []\n",
    "    # then, consider 1000 different random permutations of that list. For each\n",
    "    # permutation, time how long it takes to find the number 5 in the list.\n",
    "    # For increased accuracy, use timeit and ask it to run the test 100 times\n",
    "    for i in range(1000):\n",
    "        random.shuffle(numbers)\n",
    "        tm = timeit.timeit(\"findinlist(5, numbers)\", setup=\"from __main__ import findinlist, numbers\", number=100)\n",
    "        rez.append(tm/100)\n",
    "    # Then, compute the average execution times across all permutations\n",
    "    # and add it to our list of average times\n",
    "    avg = sum(rez) / len(rez)\n",
    "    avgtimes.append(avg)\n",
    "    print(\"Average time for list of length %d: %f\" % (listlength, avg))"
   ]
  },
  {
   "attachments": {},
   "cell_type": "markdown",
   "metadata": {},
   "source": [
    "# Linear regression time!\n",
    "+ Linear regression finds the line, on the cartesian plane, which is closer to a set of points (more precisely, finds the line that minimizes the sum of the squared distances between the line and each point).\n",
    "+ Useful to find whether a simple linear relationship exists between input and output\n",
    "    + In this case, between length of input and elapsed time\n",
    "+ Decent modeling/data exploration approach, particularly if not much is known about the data"
   ]
  },
  {
   "cell_type": "code",
   "execution_count": null,
   "metadata": {},
   "outputs": [],
   "source": [
    "from IPython.display import Video\n",
    "Video(\"linear.mp4\", embed=True)"
   ]
  },
  {
   "cell_type": "code",
   "execution_count": null,
   "metadata": {},
   "outputs": [],
   "source": [
    "# Now, compute linear regression to find the slope and intercept of the line\n",
    "# that most accurately describes the relationship between input length and time.\n",
    "# Then, plot the data and the line.\n",
    "slope, intercept = np.polyfit(listlengths, avgtimes, 1)\n",
    "plt.scatter(listlengths, avgtimes)\n",
    "linevalues = [slope * x + intercept for x in listlengths]\n",
    "plt.plot(listlengths, linevalues, 'r')"
   ]
  },
  {
   "cell_type": "code",
   "execution_count": null,
   "metadata": {},
   "outputs": [],
   "source": [
    "# Finally, print out the linear relationship between input length and time.\n",
    "print(\"The linear model is: t = %.2e * n + %.2e\" % (slope, intercept))"
   ]
  }
 ],
 "metadata": {
  "kernelspec": {
   "display_name": "base",
   "language": "python",
   "name": "python3"
  },
  "language_info": {
   "codemirror_mode": {
    "name": "ipython",
    "version": 3
   },
   "file_extension": ".py",
   "mimetype": "text/x-python",
   "name": "python",
   "nbconvert_exporter": "python",
   "pygments_lexer": "ipython3",
   "version": "3.11.5"
  },
  "orig_nbformat": 4,
  "vscode": {
   "interpreter": {
    "hash": "b8d8e621e6862c30af44f8e56c18e14fcdd139c3d6eeac4d668e658743949c31"
   }
  }
 },
 "nbformat": 4,
 "nbformat_minor": 2
}
