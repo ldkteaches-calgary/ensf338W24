{
 "cells": [
  {
   "cell_type": "code",
   "execution_count": null,
   "metadata": {},
   "outputs": [],
   "source": [
    "# Convert a graph to graphviz format\n",
    "from graphviz import Digraph\n",
    "\n",
    "def to_graphviz(root):\n",
    "    def _to_graphviz(root, outg):\n",
    "        if root is not None:\n",
    "            if root.left is not None:\n",
    "                outg.node(str(root.data))\n",
    "                outg.node(str(root.left.data))\n",
    "                outg.edge(str(root.data), str(root.left.data))\n",
    "            if root.right is not None:\n",
    "                outg.node(str(root.data))\n",
    "                outg.node(str(root.right.data))\n",
    "                outg.edge(str(root.data), str(root.right.data))\n",
    "            _to_graphviz(root.left, outg)\n",
    "            _to_graphviz(root.right, outg)\n",
    "    rez = Digraph()\n",
    "    _to_graphviz(root, rez)\n",
    "    return rez"
   ]
  },
  {
   "cell_type": "code",
   "execution_count": null,
   "metadata": {},
   "outputs": [],
   "source": [
    "# Tree node definition\n",
    "\n",
    "class Node:\n",
    "    def __init__(self, data, parent=None, left=None, right=None):\n",
    "        self.parent = parent\n",
    "        self.data = data\n",
    "        self.left = left\n",
    "        self.right = right"
   ]
  },
  {
   "cell_type": "code",
   "execution_count": null,
   "metadata": {},
   "outputs": [],
   "source": [
    "# Tree node insertion\n",
    "\n",
    "def insert(data, root=None):\n",
    "    current = root\n",
    "    parent = None\n",
    "\n",
    "    while current is not None:\n",
    "        parent = current\n",
    "        if data <= current.data:\n",
    "            current = current.left\n",
    "        else:\n",
    "            current = current.right\n",
    "\n",
    "    newnode = Node(data, parent)    \n",
    "    if root is None:\n",
    "        root = newnode\n",
    "    elif data <= parent.data:\n",
    "        parent.left = newnode\n",
    "    else:\n",
    "        parent.right = newnode\n",
    "\n",
    "    return newnode"
   ]
  },
  {
   "cell_type": "code",
   "execution_count": null,
   "metadata": {
    "collapsed": false
   },
   "outputs": [],
   "source": [
    "# Depth-first, in-order traversal\n",
    "\n",
    "def inorder(root):\n",
    "    if root is not None:\n",
    "        inorder(root.left)\n",
    "        print(root.data)\n",
    "        inorder(root.right)"
   ]
  },
  {
   "cell_type": "code",
   "execution_count": null,
   "metadata": {},
   "outputs": [],
   "source": [
    "# Depth-first, pre-order traversal\n",
    "\n",
    "def preorder(root):\n",
    "    if root is not None:\n",
    "        print(root.data)\n",
    "        preorder(root.left)\n",
    "        preorder(root.right)"
   ]
  },
  {
   "cell_type": "code",
   "execution_count": null,
   "metadata": {},
   "outputs": [],
   "source": [
    "# Depth-first, post-order traversal\n",
    "\n",
    "def postorder(root):\n",
    "    if root is not None:\n",
    "        postorder(root.left)\n",
    "        postorder(root.right)\n",
    "        print(root.data)"
   ]
  },
  {
   "cell_type": "code",
   "execution_count": null,
   "metadata": {},
   "outputs": [],
   "source": [
    "# Search for a node\n",
    "\n",
    "def search(data, root):\n",
    "    current = root\n",
    "    while current is not None:\n",
    "        if data == current.data:\n",
    "            return current\n",
    "        elif data <= current.data:\n",
    "            current = current.left\n",
    "        else:\n",
    "            current = current.right\n",
    "    return None"
   ]
  },
  {
   "cell_type": "code",
   "execution_count": null,
   "metadata": {},
   "outputs": [],
   "source": [
    "# Create sample graph and visualize\n",
    "\n",
    "root = insert(10)\n",
    "insert(5, root)\n",
    "insert(17, root)\n",
    "insert(2, root)\n",
    "insert(7, root)\n",
    "insert(12, root)\n",
    "insert(20, root)\n",
    "gv = to_graphviz(root)\n",
    "gv"
   ]
  },
  {
   "cell_type": "code",
   "execution_count": null,
   "metadata": {},
   "outputs": [],
   "source": [
    "inorder(root)"
   ]
  },
  {
   "cell_type": "code",
   "execution_count": null,
   "metadata": {},
   "outputs": [],
   "source": [
    "preorder(root)"
   ]
  },
  {
   "cell_type": "code",
   "execution_count": null,
   "metadata": {},
   "outputs": [],
   "source": [
    "postorder(root)"
   ]
  },
  {
   "cell_type": "code",
   "execution_count": null,
   "metadata": {},
   "outputs": [],
   "source": [
    "root = insert(2)\n",
    "insert(5, root)\n",
    "insert(7, root)\n",
    "insert(10, root)\n",
    "insert(12, root)\n",
    "insert(17, root)\n",
    "insert(20, root)\n",
    "gv2 = to_graphviz(root)\n",
    "gv2"
   ]
  },
  {
   "cell_type": "code",
   "execution_count": null,
   "metadata": {},
   "outputs": [],
   "source": [
    "# Implement inorder traversal using a stack\n",
    "def inorder_stack(root):\n",
    "    stack = []\n",
    "    current = root\n",
    "    while current is not None or len(stack) > 0:\n",
    "        if current is not None:\n",
    "            stack.append(current)\n",
    "            current = current.left\n",
    "        else:\n",
    "            current = stack.pop()\n",
    "            yield current.data\n",
    "            #print(current.data)\n",
    "            current = current.right"
   ]
  },
  {
   "cell_type": "code",
   "execution_count": null,
   "metadata": {},
   "outputs": [],
   "source": [
    "# Implement preorder traversal using a stack\n",
    "\n",
    "def preorder_stack(root):\n",
    "    stack = []\n",
    "    current = root\n",
    "    while current is not None or len(stack) > 0:\n",
    "        if current is not None:\n",
    "            yield current.data\n",
    "            #print(current.data)\n",
    "            stack.append(current)\n",
    "            current = current.left\n",
    "        else:\n",
    "            current = stack.pop()\n",
    "            current = current.right"
   ]
  },
  {
   "cell_type": "code",
   "execution_count": null,
   "metadata": {},
   "outputs": [],
   "source": [
    "# Implement postorder traversal using a stack. NOTE: WRONG, generated by Copilot.\n",
    "\n",
    "def postorder_stack_wrong(root):\n",
    "    stack = []\n",
    "    current = root\n",
    "    while current is not None or len(stack) > 0:\n",
    "        if current is not None:\n",
    "            stack.append(current)\n",
    "            current = current.left\n",
    "        else:\n",
    "            current = stack.pop()\n",
    "            if current.right is not None:\n",
    "                stack.append(current)\n",
    "                current = current.right\n",
    "            else:\n",
    "                yield current.data\n",
    "                #print(current.data)\n",
    "                current = None"
   ]
  },
  {
   "cell_type": "code",
   "execution_count": null,
   "metadata": {},
   "outputs": [],
   "source": [
    "# Implement postorder traversal using 1 stack. NOTE: correct implementation.\n",
    "\n",
    "def postorder_stack(root):\n",
    "    stack = []\n",
    "    current = root\n",
    "    prev = None\n",
    "    while current is not None or len(stack) > 0:\n",
    "        if current is not None:\n",
    "            stack.append(current)\n",
    "            current = current.left\n",
    "        else:\n",
    "            current = stack[-1] # Peek on top of the stack\n",
    "            if current.right is None or current.right == prev:\n",
    "                yield current.data\n",
    "                stack.pop()\n",
    "                prev = current\n",
    "                current = None\n",
    "            else:\n",
    "                current = current.right"
   ]
  },
  {
   "cell_type": "code",
   "execution_count": null,
   "metadata": {},
   "outputs": [],
   "source": [
    "# Create sample graph and visualize\n",
    "\n",
    "root = insert(10)\n",
    "insert(5, root)\n",
    "insert(17, root)\n",
    "insert(2, root)\n",
    "insert(7, root)\n",
    "insert(12, root)\n",
    "insert(20, root)\n",
    "gv = to_graphviz(root)\n",
    "gv"
   ]
  },
  {
   "cell_type": "code",
   "execution_count": null,
   "metadata": {},
   "outputs": [],
   "source": [
    "[x for x in inorder_stack(root)]"
   ]
  },
  {
   "cell_type": "code",
   "execution_count": null,
   "metadata": {},
   "outputs": [],
   "source": [
    "[x for x in preorder_stack(root)]"
   ]
  },
  {
   "cell_type": "code",
   "execution_count": null,
   "metadata": {},
   "outputs": [],
   "source": [
    "[x for x in postorder_stack(root)]"
   ]
  },
  {
   "cell_type": "code",
   "execution_count": null,
   "metadata": {},
   "outputs": [],
   "source": [
    "# Breadth-first traversal using a queue\n",
    "\n",
    "def breadth_first(root):\n",
    "    queue = []\n",
    "    queue.append(root)\n",
    "    while len(queue) > 0:\n",
    "        current = queue.pop(0) # Remove from front\n",
    "        yield current.data\n",
    "        #print(current.data)\n",
    "        if current.left is not None:\n",
    "            queue.append(current.left)\n",
    "        if current.right is not None:\n",
    "            queue.append(current.right)"
   ]
  },
  {
   "cell_type": "code",
   "execution_count": null,
   "metadata": {},
   "outputs": [],
   "source": [
    "[x for x in breadth_first(root)]"
   ]
  },
  {
   "cell_type": "code",
   "execution_count": null,
   "metadata": {},
   "outputs": [],
   "source": []
  }
 ],
 "metadata": {
  "kernelspec": {
   "display_name": "base",
   "language": "python",
   "name": "python3"
  },
  "language_info": {
   "codemirror_mode": {
    "name": "ipython",
    "version": 3
   },
   "file_extension": ".py",
   "mimetype": "text/x-python",
   "name": "python",
   "nbconvert_exporter": "python",
   "pygments_lexer": "ipython3",
   "version": "3.8.3"
  },
  "orig_nbformat": 4,
  "vscode": {
   "interpreter": {
    "hash": "b8d8e621e6862c30af44f8e56c18e14fcdd139c3d6eeac4d668e658743949c31"
   }
  }
 },
 "nbformat": 4,
 "nbformat_minor": 2
}
