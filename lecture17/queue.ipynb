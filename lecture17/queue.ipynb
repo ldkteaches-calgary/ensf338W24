{
 "cells": [
  {
   "cell_type": "code",
   "execution_count": null,
   "metadata": {},
   "outputs": [],
   "source": [
    "class ArrayQueue:\n",
    "    def __init__(self, capacity):\n",
    "        self.capacity = capacity\n",
    "        self.queue = [None] * capacity\n",
    "        self.head = -1\n",
    "        self.tail = -1\n",
    "\n",
    "    def is_empty(self):\n",
    "        return self.head == -1\n",
    "\n",
    "    def is_full(self):\n",
    "        return (self.tail + 1) % self.capacity == self.head\n",
    "\n",
    "    def enqueue(self, item):\n",
    "        if self.is_full():\n",
    "            print(\"Queue is full. Unable to enqueue item.\")\n",
    "            return\n",
    "        elif self.is_empty():\n",
    "            self.head = 0\n",
    "            self.tail = 0\n",
    "        else:\n",
    "            self.tail = (self.tail + 1) % self.capacity\n",
    "        self.queue[self.tail] = item\n",
    "\n",
    "    def dequeue(self):\n",
    "        if self.is_empty():\n",
    "            print(\"Queue is empty. Unable to dequeue item.\")\n",
    "            return None\n",
    "        item = self.queue[self.head]\n",
    "        if self.head == self.tail:\n",
    "            self.head = -1\n",
    "            self.tail = -1\n",
    "        else:\n",
    "            self.head = (self.head + 1) % self.capacity\n",
    "        return item\n",
    "\n",
    "    def peek(self):\n",
    "        if self.is_empty():\n",
    "            print(\"Queue is empty. Unable to peek item.\")\n",
    "            return None\n",
    "        return self.queue[self.head]\n"
   ]
  }
 ],
 "metadata": {
  "language_info": {
   "name": "python"
  }
 },
 "nbformat": 4,
 "nbformat_minor": 2
}
