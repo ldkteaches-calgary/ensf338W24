{
 "cells": [
  {
   "cell_type": "code",
   "execution_count": null,
   "metadata": {},
   "outputs": [],
   "source": [
    " # Stack array Implementation\n",
    "\n",
    "class MyArrayStack:\n",
    "    def __init__(self):\n",
    "        self._storage = []\n",
    "    def push(self, value):\n",
    "        self._storage.append(value)\n",
    "    def pop(self):\n",
    "        # Note that in Python \"not <list>\" evaluates to True if the list is empty\n",
    "        if not self._storage:\n",
    "            return None\n",
    "        else:\n",
    "            return self._storage.pop()\n",
    "    def peek(self):\n",
    "        if not self._storage:\n",
    "            return None\n",
    "        else:\n",
    "            return self._storage[-1]"
   ]
  },
  {
   "cell_type": "code",
   "execution_count": null,
   "metadata": {},
   "outputs": [],
   "source": [
    "# List node - class definition\n",
    "\n",
    "class ListNode:\n",
    "    def __init__(self, value):\n",
    "        self._value = value\n",
    "        self._next = None\n",
    "\n",
    "    def getData(self):\n",
    "        return self._value\n",
    "\n",
    "    def setData(self, value):\n",
    "        self._value = value\n",
    "\n",
    "    def getNext(self):\n",
    "        return self._next\n",
    "\n",
    "    def setNext(self, next):\n",
    "        self._next = next\n",
    "\n",
    "    def toString(self):\n",
    "        return str(self._value)"
   ]
  },
  {
   "cell_type": "code",
   "execution_count": null,
   "metadata": {},
   "outputs": [],
   "source": [
    "class MyListStack:\n",
    "    def __init__(self):\n",
    "        self._head = None\n",
    "    def push(self, value):\n",
    "        node = ListNode(value)\n",
    "        node.setNext(self._head)\n",
    "        self._head = node\n",
    "    def pop(self):\n",
    "        if self._head is None:\n",
    "            return None\n",
    "        else:\n",
    "            retval = self._head.getData()\n",
    "            self._head = self._head.getNext()\n",
    "            return retval\n",
    "    def peek(self):\n",
    "        if self._head is None:\n",
    "            return None\n",
    "        else:\n",
    "            return self._head.getData()"
   ]
  },
  {
   "cell_type": "code",
   "execution_count": null,
   "metadata": {},
   "outputs": [],
   "source": [
    "# Test Array-based stack\n",
    "arrs = MyArrayStack()\n",
    "print(arrs.pop())\n",
    "print(arrs.peek())\n",
    "arrs.push(42)\n",
    "arrs.push(4)\n",
    "arrs.push(7)\n",
    "print(arrs.pop())\n",
    "print(arrs.pop())\n",
    "print(arrs.peek())\n",
    "print(arrs.pop())\n",
    "print(arrs.pop())"
   ]
  },
  {
   "cell_type": "code",
   "execution_count": null,
   "metadata": {},
   "outputs": [],
   "source": [
    "# Test List-based stack\n",
    "liss = MyArrayStack()\n",
    "print(liss.pop())\n",
    "print(liss.peek())\n",
    "liss.push(42)\n",
    "liss.push(4)\n",
    "liss.push(7)\n",
    "print(liss.pop())\n",
    "print(liss.pop())\n",
    "print(liss.peek())\n",
    "print(liss.pop())\n",
    "print(liss.pop())"
   ]
  },
  {
   "cell_type": "code",
   "execution_count": null,
   "metadata": {},
   "outputs": [],
   "source": []
  }
 ],
 "metadata": {
  "kernelspec": {
   "display_name": "base",
   "language": "python",
   "name": "python3"
  },
  "language_info": {
   "codemirror_mode": {
    "name": "ipython",
    "version": 3
   },
   "file_extension": ".py",
   "mimetype": "text/x-python",
   "name": "python",
   "nbconvert_exporter": "python",
   "pygments_lexer": "ipython3",
   "version": "3.9.18"
  },
  "orig_nbformat": 4,
  "vscode": {
   "interpreter": {
    "hash": "b8d8e621e6862c30af44f8e56c18e14fcdd139c3d6eeac4d668e658743949c31"
   }
  }
 },
 "nbformat": 4,
 "nbformat_minor": 2
}
