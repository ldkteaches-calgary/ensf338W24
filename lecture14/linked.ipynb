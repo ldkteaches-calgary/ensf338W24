{
 "cells": [
  {
   "cell_type": "code",
   "execution_count": 1,
   "metadata": {},
   "outputs": [],
   "source": [
    "# List node - class definition\n",
    "\n",
    "class ListNode:\n",
    "    def __init__(self, value):\n",
    "        self._value = value\n",
    "        self._next = None\n",
    "\n",
    "    def getData(self):\n",
    "        return self._value\n",
    "\n",
    "    def setData(self, value):\n",
    "        self._value = value\n",
    "\n",
    "    def getNext(self):\n",
    "        return self._next\n",
    "\n",
    "    def setNext(self, next):\n",
    "        self._next = next\n",
    "\n",
    "    def toString(self):\n",
    "        return str(self._value)"
   ]
  },
  {
   "cell_type": "code",
   "execution_count": 5,
   "metadata": {},
   "outputs": [],
   "source": [
    "# List node - creation and deletion\n",
    "n = ListNode(3)\n",
    "del n"
   ]
  },
  {
   "cell_type": "code",
   "execution_count": null,
   "metadata": {},
   "outputs": [],
   "source": [
    "# Doubly-linked list node\n",
    "\n",
    "class DoublyListNode:\n",
    "    def __init__(self, value):\n",
    "        self._value = value\n",
    "        self._next = None\n",
    "        self._prev = None\n",
    "\n",
    "    def getData(self):\n",
    "        return self._value\n",
    "\n",
    "    def setData(self, value):\n",
    "        self._value = value\n",
    "\n",
    "    def getNext(self):\n",
    "        return self._next\n",
    "\n",
    "    def setNext(self, next):\n",
    "        self._next = next\n",
    "\n",
    "    def toString(self):\n",
    "        return str(self._value)"
   ]
  }
 ],
 "metadata": {
  "kernelspec": {
   "display_name": "base",
   "language": "python",
   "name": "python3"
  },
  "language_info": {
   "codemirror_mode": {
    "name": "ipython",
    "version": 3
   },
   "file_extension": ".py",
   "mimetype": "text/x-python",
   "name": "python",
   "nbconvert_exporter": "python",
   "pygments_lexer": "ipython3",
   "version": "3.8.3"
  },
  "orig_nbformat": 4,
  "vscode": {
   "interpreter": {
    "hash": "b8d8e621e6862c30af44f8e56c18e14fcdd139c3d6eeac4d668e658743949c31"
   }
  }
 },
 "nbformat": 4,
 "nbformat_minor": 2
}
